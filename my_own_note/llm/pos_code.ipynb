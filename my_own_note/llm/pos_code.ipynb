{
 "cells": [
  {
   "cell_type": "markdown",
   "id": "ac52a0a6",
   "metadata": {},
   "source": [
    "RoPE（Rotary Position Embedding，旋转位置编码）是 Transformer 里用来在注意力计算中注入位置信息的一种方法（GPT-NeoX、LLaMA 都在用）。\n",
    "核心思想：\n",
    "\n",
    "•\t不直接给 token embedding 加位置向量（像传统的正余弦），而是通过旋转 Query/Key 的二维子空间来注入位置信息。\n",
    "\n",
    "•\t旋转角度由 token 的位置 pos 和频率矩阵 θ 决定。\n",
    "\n",
    "公式：\n",
    "\\begin{equation}\n",
    "\\text{RoPE}(x, m) =\n",
    "\\begin{bmatrix}\n",
    "x_{\\text{even}}\\cos \\theta_m - x_{\\text{odd}}\\sin \\theta_m,\n",
    "x_{\\text{even}}\\sin \\theta_m + x_{\\text{odd}}\\cos \\theta_m\n",
    "\\end{bmatrix}\n",
    "\\end{equation}\n",
    "其中 $\\theta_m = m / 10000^{2i/d}$ 是按频率构造的角度矩阵。\n",
    "\n",
    "**结论：ROPE是“通过绝对位置编码的方式实现相对位置编码”**"
   ]
  },
  {
   "cell_type": "markdown",
   "id": "1a16823c",
   "metadata": {},
   "source": [
    "$$\n",
    "\\begin{bmatrix} \n",
    "x_{2k-1}^\\text{RoPE}(p) \\\\ x_{2k}^\\text{RoPE}(p) \n",
    "\\end{bmatrix}\n",
    "=\n",
    "\\begin{bmatrix} \n",
    "\\cos(p\\theta_k) & -\\sin(p\\theta_k) \\\\ \n",
    "\\sin(p\\theta_k) & \\cos(p\\theta_k) \n",
    "\\end{bmatrix}\n",
    "\\begin{bmatrix} \n",
    "x_{2k-1} \\\\ x_{2k} \n",
    "\\end{bmatrix}\n",
    "$$\n",
    "\n",
    "$\\theta_k=\\frac{p}{100000^{2k/d}}$"
   ]
  },
  {
   "cell_type": "code",
   "execution_count": null,
   "id": "c63179aa",
   "metadata": {},
   "outputs": [],
   "source": [
    "import torch\n",
    "\n",
    "inputs = torch.randn(10, 512, 768)\n",
    "\n",
    "def get_rope_freqs(S, D):\n",
    "    theta = 10000 **(2 * torch.arange(0, D, 2) / D)\n",
    "    pos = torch.arange(S)\n",
    "    freqs = torch.einsum('i,j->ij', pos, theta)\n",
    "    sin = torch.sin(freqs).repeat_interleave(2, -1).unsqueeze(0)\n",
    "    cos = torch.cos(freqs).repeat_interleave(2, -1).unsqueeze(0)\n",
    "    return sin, cos\n",
    "\n",
    "def rotate_half(x):\n",
    "    x_even = x[:,:,::2]\n",
    "    x_odd = x[:,:,1::2]\n",
    "    return torch.cat([-x_odd, x_even], dim=-1)\n",
    "\n",
    "def rope_pos_emb(x):\n",
    "    B, S, D =  x.shape\n",
    "    sin, cos = get_rope_freqs(S, D)\n",
    "    return cos * x + sin * rotate_half(x)"
   ]
  },
  {
   "cell_type": "code",
   "execution_count": 14,
   "id": "7f1645b1",
   "metadata": {},
   "outputs": [],
   "source": [
    "import torch\n",
    "\n",
    "def get_rope_freqs(S, D):\n",
    "    theta = 10000 ** (- 2 * torch.arange(0, D, 2) / D)\n",
    "    pos = torch.arange(S)\n",
    "    theta = torch.einsum('i,j->ij', pos, theta)\n",
    "    sin = torch.sin(theta).repeat_interleave(2, -1).unsqueeze(0)\n",
    "    cos = torch.cos(theta).repeat_interleave(2, -1).unsqueeze(0)\n",
    "    return cos, sin\n",
    "\n",
    "def half_rotate(x):\n",
    "    x_even = x[..., ::2]\n",
    "    x_odd = x[..., 1::2]\n",
    "    return torch.stack([-x_odd, x_even], dim=-1).reshape(x.shape)\n",
    "\n",
    "def apply_rotary_pos_emb(x, cos, sin):\n",
    "    return cos * x + sin * half_rotate(x)\n",
    "\n",
    "x = torch.randn(10, 256, 128)\n",
    "B, S, D = x.shape\n",
    "cos, sin = get_rope_freqs(S, D)\n",
    "x = apply_rotary_pos_emb(x, cos, sin)"
   ]
  }
 ],
 "metadata": {
  "kernelspec": {
   "display_name": "py312",
   "language": "python",
   "name": "python3"
  },
  "language_info": {
   "codemirror_mode": {
    "name": "ipython",
    "version": 3
   },
   "file_extension": ".py",
   "mimetype": "text/x-python",
   "name": "python",
   "nbconvert_exporter": "python",
   "pygments_lexer": "ipython3",
   "version": "3.12.9"
  }
 },
 "nbformat": 4,
 "nbformat_minor": 5
}
