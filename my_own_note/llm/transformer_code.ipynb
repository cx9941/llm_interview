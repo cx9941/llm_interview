{
 "cells": [
  {
   "cell_type": "markdown",
   "id": "3b887db9",
   "metadata": {},
   "source": [
    "## Transformer代码"
   ]
  },
  {
   "cell_type": "markdown",
   "id": "d3d01774",
   "metadata": {},
   "source": [
    "手撕MHA"
   ]
  },
  {
   "cell_type": "markdown",
   "id": "2a977212",
   "metadata": {},
   "source": [
    "公式 \n",
    "\n",
    "$Attention(Q,K,V)= \\frac{softmax(QK^T)}{\\sqrt{d_k}} V $\n",
    "\n",
    "$Q_i = QW^q_i, K_i = KW^k_i, V_i = VW^v_i$\n",
    "\n",
    "$head_i = Attention(Q_i, K_i, V_i)$\n",
    "\n",
    "$MultiHead(Q,K,V) = Concat(head_i)*W^o$\n"
   ]
  },
  {
   "cell_type": "code",
   "execution_count": null,
   "id": "dd44a214",
   "metadata": {},
   "outputs": [],
   "source": [
    "import torch\n",
    "import torch.nn as nn\n",
    "import torch.nn.functional as F\n",
    "\n",
    "class MultiHeadAttention(nn.Module):\n",
    "    def __init__(self, dim, num_heads):\n",
    "        super().__init__()\n",
    "        self.dim = dim\n",
    "        self.num_heads = num_heads\n",
    "        \n",
    "        assert dim % num_heads == 0, \"dim 必须能被 num_heads 整除\"\n",
    "        \n",
    "        self.w_k = nn.Linear(dim, dim)\n",
    "        self.w_q = nn.Linear(dim, dim)\n",
    "        self.w_v = nn.Linear(dim, dim)\n",
    "        self.fc = nn.Linear(dim, dim)\n",
    "    \n",
    "    \n",
    "    def forward(self, input_tensor, attention_mask=None):\n",
    "        B, L, dim = input_tensor.shape\n",
    "\n",
    "        key = self.w_k(input_tensor)\n",
    "        query = self.w_q(input_tensor)\n",
    "        value = self.w_v(input_tensor)\n",
    "\n",
    "        key = key.reshape(B, L, self.num_heads, self.dim // self.num_heads).transpose(1, 2)\n",
    "        query = query.reshape(B, L, self.num_heads, self.dim // self.num_heads).transpose(1, 2)\n",
    "        value = value.reshape(B, L, self.num_heads, self.dim // self.num_heads).transpose(1, 2)\n",
    "\n",
    "        attn_scores = torch.matmul(query, key.transpose(-2, -1)) / ((self.dim // self.num_heads) ** 0.5)\n",
    "        \n",
    "        causal_mask = torch.tril(torch.ones(L, L)).unsqueeze(0).unsqueeze(0)\n",
    "\n",
    "        if attention_mask is not None:\n",
    "            causal_mask = causal_mask & attention_mask\n",
    "\n",
    "        attn_scores = attn_scores.masked_fill(causal_mask==0, float('-inf'))\n",
    "\n",
    "        attn_scores = F.softmax(attn_scores - attn_scores.max(dim=-1, keepdim=True), dim=-1)\n",
    "        \n",
    "        outputs = torch.matmul(attn_scores, value).transpose(1, 2).reshape(B, L, dim).contiguous()\n",
    "\n",
    "        outputs = self.fc(outputs)\n",
    "\n",
    "        return outputs\n"
   ]
  }
 ],
 "metadata": {
  "kernelspec": {
   "display_name": "py312",
   "language": "python",
   "name": "python3"
  },
  "language_info": {
   "codemirror_mode": {
    "name": "ipython",
    "version": 3
   },
   "file_extension": ".py",
   "mimetype": "text/x-python",
   "name": "python",
   "nbconvert_exporter": "python",
   "pygments_lexer": "ipython3",
   "version": "3.12.11"
  }
 },
 "nbformat": 4,
 "nbformat_minor": 5
}
