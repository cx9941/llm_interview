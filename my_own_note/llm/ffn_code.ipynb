{
 "cells": [
  {
   "cell_type": "markdown",
   "id": "1cf8c811",
   "metadata": {},
   "source": [
    "transformer和Llama中的FFN有什么不同"
   ]
  },
  {
   "cell_type": "code",
   "execution_count": null,
   "id": "80c8aa62",
   "metadata": {},
   "outputs": [],
   "source": [
    "import torch\n",
    "import torch.nn as nn\n",
    "\n",
    "class Transformer_FFN(nn.Module):\n",
    "    def __init__(self, dim):\n",
    "        self.fc1 = nn.Linear(dim, dim)\n",
    "        self.fc2 = nn.Linear(dim, dim)\n",
    "        self.act = nn.ReLU()\n",
    "    \n",
    "    def forward(self, x):\n",
    "        _x = self.fc1(x)\n",
    "        _x = self.fc2(self.act(x))\n",
    "        return _x"
   ]
  },
  {
   "cell_type": "code",
   "execution_count": null,
   "id": "464c870e",
   "metadata": {},
   "outputs": [],
   "source": [
    "import torch\n",
    "import torch.nn as nn\n",
    "import torch.nn.functional as F\n",
    "\n",
    "class Llama_FFN(nn.Module):\n",
    "    def __init__(self, dim):\n",
    "        self.fc1 = nn.Linear(dim, dim)\n",
    "        self.fc2 = nn.Linear(dim, dim)\n",
    "        self.fc3 = nn.Linear(dim, dim)\n",
    "    \n",
    "    def forward(self, x):\n",
    "        _x = self.fc1(x)\n",
    "        _x = self.fc3(_x * F.silu(self.fc2(_x)))\n",
    "        return _x"
   ]
  },
  {
   "cell_type": "markdown",
   "id": "73633114",
   "metadata": {},
   "source": [
    "•\tReLU：稀疏激活，计算简单，但信息损失较大。\n",
    "\n",
    "•\tSwiGLU：保留更多梯度信息，非线性更柔和，实践上大模型（GPT-4、LLaMA、PaLM 等）更倾向用 SwiGLU，因为它在训练稳定性和收敛速度上更优。\n",
    "\n",
    "$\\text{SiLU}(x) = x \\cdot \\sigma(x)$"
   ]
  }
 ],
 "metadata": {
  "kernelspec": {
   "display_name": "py312",
   "language": "python",
   "name": "python3"
  },
  "language_info": {
   "name": "python",
   "version": "3.12.11"
  }
 },
 "nbformat": 4,
 "nbformat_minor": 5
}
