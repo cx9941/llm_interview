{
 "cells": [
  {
   "cell_type": "markdown",
   "id": "fda2b831",
   "metadata": {},
   "source": [
    "ranking loss"
   ]
  },
  {
   "cell_type": "code",
   "execution_count": null,
   "id": "2676e136",
   "metadata": {},
   "outputs": [],
   "source": [
    "import pandas as pd\n",
    "import torch\n",
    "import torch.nn.functional as F\n",
    "\n",
    "def ranking_loss(anchor, pos, neg, margin=0.1):\n",
    "    pos_score = F.cosine_similarity(anchor, pos)\n",
    "    neg_score = F.cosine_similarity(anchor, neg)\n",
    "    loss = torch.clamp(pos_score - neg_score + margin, min=0) \n",
    "    return loss.mean()"
   ]
  },
  {
   "cell_type": "markdown",
   "id": "4cd757f1",
   "metadata": {},
   "source": [
    "如果是给定reprs（有序的，第一个是ref），"
   ]
  },
  {
   "cell_type": "code",
   "execution_count": null,
   "id": "8ecb5069",
   "metadata": {},
   "outputs": [],
   "source": [
    "def ranking_loss(anchor, reps, margin=0.1):\n",
    "    scores = F.cosine_similarity(anchor.repeat(reps.shape[0], 1), reps, dim=-1)\n",
    "    pos_scores = scores[:-1]\n",
    "    neg_scores = scores[1:]\n",
    "    loss = torch.clamp(neg_scores - pos_scores  + margin, min=0)\n",
    "    return loss.mean()"
   ]
  },
  {
   "cell_type": "markdown",
   "id": "3b3dd7b8",
   "metadata": {},
   "source": [
    "infoNCE loss"
   ]
  },
  {
   "cell_type": "code",
   "execution_count": null,
   "id": "dc265015",
   "metadata": {},
   "outputs": [],
   "source": [
    "import torch.nn as nn\n",
    "import torch.nn.functional as F\n",
    "import torch\n",
    "\n",
    "def infoNCE_loss(q, k, temperature=0.5):\n",
    "    q = F.normalize(q)\n",
    "    k = F.normalize(k)\n",
    "    sim = q @ k.T / temperature\n",
    "    labels = torch.arrange(q.shape[0])\n",
    "    loss = nn.CrossEntropyLoss()(sim, labels)\n",
    "    return loss\n"
   ]
  }
 ],
 "metadata": {
  "kernelspec": {
   "display_name": "py312",
   "language": "python",
   "name": "python3"
  },
  "language_info": {
   "codemirror_mode": {
    "name": "ipython",
    "version": 3
   },
   "file_extension": ".py",
   "mimetype": "text/x-python",
   "name": "python",
   "nbconvert_exporter": "python",
   "pygments_lexer": "ipython3",
   "version": "3.12.9"
  }
 },
 "nbformat": 4,
 "nbformat_minor": 5
}
