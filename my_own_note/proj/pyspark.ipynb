{
 "cells": [
  {
   "cell_type": "code",
   "execution_count": 4,
   "id": "a452ff21",
   "metadata": {},
   "outputs": [
    {
     "data": {
      "text/html": [
       "<div>\n",
       "<style scoped>\n",
       "    .dataframe tbody tr th:only-of-type {\n",
       "        vertical-align: middle;\n",
       "    }\n",
       "\n",
       "    .dataframe tbody tr th {\n",
       "        vertical-align: top;\n",
       "    }\n",
       "\n",
       "    .dataframe thead th {\n",
       "        text-align: right;\n",
       "    }\n",
       "</style>\n",
       "<table border=\"1\" class=\"dataframe\">\n",
       "  <thead>\n",
       "    <tr style=\"text-align: right;\">\n",
       "      <th></th>\n",
       "      <th>user_id</th>\n",
       "      <th>category</th>\n",
       "      <th>ts</th>\n",
       "      <th>amount</th>\n",
       "      <th>tags</th>\n",
       "      <th>meta</th>\n",
       "    </tr>\n",
       "  </thead>\n",
       "  <tbody>\n",
       "    <tr>\n",
       "      <th>0</th>\n",
       "      <td>1</td>\n",
       "      <td>A</td>\n",
       "      <td>2025-08-16 10:01:00</td>\n",
       "      <td>10.0</td>\n",
       "      <td>['x', 'y']</td>\n",
       "      <td>{'k': '1'}</td>\n",
       "    </tr>\n",
       "    <tr>\n",
       "      <th>1</th>\n",
       "      <td>1</td>\n",
       "      <td>A</td>\n",
       "      <td>2025-08-16 10:05:00</td>\n",
       "      <td>20.0</td>\n",
       "      <td>['y']</td>\n",
       "      <td>{'k': '2'}</td>\n",
       "    </tr>\n",
       "    <tr>\n",
       "      <th>2</th>\n",
       "      <td>2</td>\n",
       "      <td>B</td>\n",
       "      <td>2025-08-16 09:59:00</td>\n",
       "      <td>5.5</td>\n",
       "      <td>['z']</td>\n",
       "      <td>{'k': '3'}</td>\n",
       "    </tr>\n",
       "    <tr>\n",
       "      <th>3</th>\n",
       "      <td>2</td>\n",
       "      <td>B</td>\n",
       "      <td>2025-08-16 10:07:00</td>\n",
       "      <td>7.0</td>\n",
       "      <td>[]</td>\n",
       "      <td>{'k': '4'}</td>\n",
       "    </tr>\n",
       "    <tr>\n",
       "      <th>4</th>\n",
       "      <td>3</td>\n",
       "      <td>A</td>\n",
       "      <td>2025-08-16 11:00:00</td>\n",
       "      <td>NaN</td>\n",
       "      <td>['x']</td>\n",
       "      <td>{'k': '5'}</td>\n",
       "    </tr>\n",
       "  </tbody>\n",
       "</table>\n",
       "</div>"
      ],
      "text/plain": [
       "   user_id category                   ts  amount        tags        meta\n",
       "0        1        A  2025-08-16 10:01:00    10.0  ['x', 'y']  {'k': '1'}\n",
       "1        1        A  2025-08-16 10:05:00    20.0       ['y']  {'k': '2'}\n",
       "2        2        B  2025-08-16 09:59:00     5.5       ['z']  {'k': '3'}\n",
       "3        2        B  2025-08-16 10:07:00     7.0          []  {'k': '4'}\n",
       "4        3        A  2025-08-16 11:00:00     NaN       ['x']  {'k': '5'}"
      ]
     },
     "execution_count": 4,
     "metadata": {},
     "output_type": "execute_result"
    }
   ],
   "source": [
    "import pandas as pd\n",
    "df = pd.read_csv('data/sample.csv')\n",
    "df"
   ]
  },
  {
   "cell_type": "code",
   "execution_count": 6,
   "id": "bc9ac080",
   "metadata": {},
   "outputs": [
    {
     "data": {
      "text/plain": [
       "user_id                       1\n",
       "category                      A\n",
       "ts          2025-08-16 10:01:00\n",
       "amount                     10.0\n",
       "tags                 ['x', 'y']\n",
       "meta                 {'k': '1'}\n",
       "Name: 0, dtype: object"
      ]
     },
     "execution_count": 6,
     "metadata": {},
     "output_type": "execute_result"
    }
   ],
   "source": [
    "df.iloc[0]"
   ]
  }
 ],
 "metadata": {
  "kernelspec": {
   "display_name": "py312",
   "language": "python",
   "name": "python3"
  },
  "language_info": {
   "codemirror_mode": {
    "name": "ipython",
    "version": 3
   },
   "file_extension": ".py",
   "mimetype": "text/x-python",
   "name": "python",
   "nbconvert_exporter": "python",
   "pygments_lexer": "ipython3",
   "version": "3.12.11"
  }
 },
 "nbformat": 4,
 "nbformat_minor": 5
}
